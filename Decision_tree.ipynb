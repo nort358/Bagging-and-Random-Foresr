{
  "nbformat": 4,
  "nbformat_minor": 0,
  "metadata": {
    "colab": {
      "name": "Decision tree.ipynb",
      "provenance": [],
      "collapsed_sections": []
    },
    "kernelspec": {
      "name": "python3",
      "display_name": "Python 3"
    }
  },
  "cells": [
    {
      "cell_type": "code",
      "metadata": {
        "id": "avPZng0nlChT"
      },
      "source": [
        "from sklearn.datasets import load_digits"
      ],
      "execution_count": null,
      "outputs": []
    },
    {
      "cell_type": "code",
      "metadata": {
        "colab": {
          "base_uri": "https://localhost:8080/"
        },
        "id": "cqBLCFoFlmX0",
        "outputId": "943a46f3-cbaf-429f-8f7e-8e9a8bbf5e27"
      },
      "source": [
        "digits=load_digits()\r\n",
        "print(digits.data.shape)"
      ],
      "execution_count": null,
      "outputs": [
        {
          "output_type": "stream",
          "text": [
            "(1797, 64)\n"
          ],
          "name": "stdout"
        }
      ]
    },
    {
      "cell_type": "code",
      "metadata": {
        "colab": {
          "base_uri": "https://localhost:8080/"
        },
        "id": "JqBE5vaemb-S",
        "outputId": "c8f42d42-d385-43ea-a6c0-8a7a97787cea"
      },
      "source": [
        "digits.data"
      ],
      "execution_count": null,
      "outputs": [
        {
          "output_type": "execute_result",
          "data": {
            "text/plain": [
              "array([[ 0.,  0.,  5., ...,  0.,  0.,  0.],\n",
              "       [ 0.,  0.,  0., ..., 10.,  0.,  0.],\n",
              "       [ 0.,  0.,  0., ..., 16.,  9.,  0.],\n",
              "       ...,\n",
              "       [ 0.,  0.,  1., ...,  6.,  0.,  0.],\n",
              "       [ 0.,  0.,  2., ..., 12.,  0.,  0.],\n",
              "       [ 0.,  0., 10., ..., 12.,  1.,  0.]])"
            ]
          },
          "metadata": {
            "tags": []
          },
          "execution_count": 4
        }
      ]
    },
    {
      "cell_type": "code",
      "metadata": {
        "colab": {
          "base_uri": "https://localhost:8080/"
        },
        "id": "11uTXie9mfNz",
        "outputId": "b6441602-54b3-4c24-b6b7-707b6ea71215"
      },
      "source": [
        "digits.target"
      ],
      "execution_count": null,
      "outputs": [
        {
          "output_type": "execute_result",
          "data": {
            "text/plain": [
              "array([0, 1, 2, ..., 8, 9, 8])"
            ]
          },
          "metadata": {
            "tags": []
          },
          "execution_count": 5
        }
      ]
    },
    {
      "cell_type": "code",
      "metadata": {
        "id": "d-JERhaOoWqU"
      },
      "source": [
        "from sklearn import tree\r\n",
        "from sklearn import model_selection\r\n",
        "import numpy as np"
      ],
      "execution_count": null,
      "outputs": []
    },
    {
      "cell_type": "code",
      "metadata": {
        "id": "7YxsnIO8MPV9",
        "colab": {
          "base_uri": "https://localhost:8080/"
        },
        "outputId": "d7aca4f4-c243-4c26-f1ac-14446cc9c2f4"
      },
      "source": [
        "kf=model_selection.KFold(n_splits=10)\r\n",
        "kf.get_n_splits(digits.data,digits.target)\r\n",
        "print(kf)\r\n",
        "for  train_index,test_index in kf.split(digits.data):\r\n",
        "  X_first_train, X_first_test = digits.data[train_index], digits.data[test_index]\r\n",
        "  y_first_train, y_first_test = digits.target[train_index], digits.target[test_index]\r\n",
        "  print(\"TRAIN:\", X_first_train, \"TEST:\", X_first_test)"
      ],
      "execution_count": null,
      "outputs": [
        {
          "output_type": "stream",
          "text": [
            "KFold(n_splits=10, random_state=None, shuffle=False)\n",
            "TRAIN: [[ 0.  0.  7. ... 12.  3.  0.]\n",
            " [ 0.  1. 12. ...  9.  4.  0.]\n",
            " [ 0.  0.  5. ...  0.  0.  0.]\n",
            " ...\n",
            " [ 0.  0.  1. ...  6.  0.  0.]\n",
            " [ 0.  0.  2. ... 12.  0.  0.]\n",
            " [ 0.  0. 10. ... 12.  1.  0.]] TEST: [[ 0.  0.  5. ...  0.  0.  0.]\n",
            " [ 0.  0.  0. ... 10.  0.  0.]\n",
            " [ 0.  0.  0. ... 16.  9.  0.]\n",
            " ...\n",
            " [ 0.  0.  0. ... 12.  0.  0.]\n",
            " [ 0.  0.  6. ... 10.  1.  0.]\n",
            " [ 0.  0.  0. ...  8.  0.  0.]]\n",
            "TRAIN: [[ 0.  0.  5. ...  0.  0.  0.]\n",
            " [ 0.  0.  0. ... 10.  0.  0.]\n",
            " [ 0.  0.  0. ... 16.  9.  0.]\n",
            " ...\n",
            " [ 0.  0.  1. ...  6.  0.  0.]\n",
            " [ 0.  0.  2. ... 12.  0.  0.]\n",
            " [ 0.  0. 10. ... 12.  1.  0.]] TEST: [[ 0.  0.  7. ... 12.  3.  0.]\n",
            " [ 0.  1. 12. ...  9.  4.  0.]\n",
            " [ 0.  0.  5. ...  0.  0.  0.]\n",
            " ...\n",
            " [ 0.  0.  3. ...  8.  0.  0.]\n",
            " [ 0.  0.  5. ...  1.  0.  0.]\n",
            " [ 0.  0.  6. ... 11.  1.  0.]]\n",
            "TRAIN: [[ 0.  0.  5. ...  0.  0.  0.]\n",
            " [ 0.  0.  0. ... 10.  0.  0.]\n",
            " [ 0.  0.  0. ... 16.  9.  0.]\n",
            " ...\n",
            " [ 0.  0.  1. ...  6.  0.  0.]\n",
            " [ 0.  0.  2. ... 12.  0.  0.]\n",
            " [ 0.  0. 10. ... 12.  1.  0.]] TEST: [[ 0.  0.  1. ... 11.  2.  0.]\n",
            " [ 0.  0.  3. ...  0.  0.  0.]\n",
            " [ 0.  0.  1. ... 14.  9.  0.]\n",
            " ...\n",
            " [ 0.  0.  8. ... 16. 12.  5.]\n",
            " [ 0.  0.  3. ... 10. 12.  4.]\n",
            " [ 0.  0.  2. ... 16.  5.  0.]]\n",
            "TRAIN: [[ 0.  0.  5. ...  0.  0.  0.]\n",
            " [ 0.  0.  0. ... 10.  0.  0.]\n",
            " [ 0.  0.  0. ... 16.  9.  0.]\n",
            " ...\n",
            " [ 0.  0.  1. ...  6.  0.  0.]\n",
            " [ 0.  0.  2. ... 12.  0.  0.]\n",
            " [ 0.  0. 10. ... 12.  1.  0.]] TEST: [[ 0.  0.  0. ...  0.  0.  0.]\n",
            " [ 0.  1. 13. ...  1.  0.  0.]\n",
            " [ 0.  0.  2. ... 16. 10.  0.]\n",
            " ...\n",
            " [ 0.  0.  6. ...  3.  0.  0.]\n",
            " [ 0.  0.  0. ...  4.  0.  0.]\n",
            " [ 0.  0.  0. ...  7.  0.  0.]]\n",
            "TRAIN: [[ 0.  0.  5. ...  0.  0.  0.]\n",
            " [ 0.  0.  0. ... 10.  0.  0.]\n",
            " [ 0.  0.  0. ... 16.  9.  0.]\n",
            " ...\n",
            " [ 0.  0.  1. ...  6.  0.  0.]\n",
            " [ 0.  0.  2. ... 12.  0.  0.]\n",
            " [ 0.  0. 10. ... 12.  1.  0.]] TEST: [[ 0.  0.  2. ...  1.  0.  0.]\n",
            " [ 0.  0.  9. ...  1.  0.  0.]\n",
            " [ 0.  0.  3. ... 16.  7.  0.]\n",
            " ...\n",
            " [ 0.  0.  0. ...  3.  0.  0.]\n",
            " [ 0.  0.  1. ... 12.  1.  0.]\n",
            " [ 0.  0.  6. ...  6.  0.  0.]]\n",
            "TRAIN: [[ 0.  0.  5. ...  0.  0.  0.]\n",
            " [ 0.  0.  0. ... 10.  0.  0.]\n",
            " [ 0.  0.  0. ... 16.  9.  0.]\n",
            " ...\n",
            " [ 0.  0.  1. ...  6.  0.  0.]\n",
            " [ 0.  0.  2. ... 12.  0.  0.]\n",
            " [ 0.  0. 10. ... 12.  1.  0.]] TEST: [[ 0.  0.  0. ...  2.  0.  0.]\n",
            " [ 0.  0.  1. ...  8.  0.  0.]\n",
            " [ 0.  0.  0. ...  7.  0.  0.]\n",
            " ...\n",
            " [ 0.  0.  0. ... 14.  5.  0.]\n",
            " [ 0.  2.  0. ... 16.  7.  0.]\n",
            " [ 0.  0.  6. ...  0.  0.  0.]]\n",
            "TRAIN: [[ 0.  0.  5. ...  0.  0.  0.]\n",
            " [ 0.  0.  0. ... 10.  0.  0.]\n",
            " [ 0.  0.  0. ... 16.  9.  0.]\n",
            " ...\n",
            " [ 0.  0.  1. ...  6.  0.  0.]\n",
            " [ 0.  0.  2. ... 12.  0.  0.]\n",
            " [ 0.  0. 10. ... 12.  1.  0.]] TEST: [[ 0.  0.  9. ...  0.  0.  0.]\n",
            " [ 0.  0. 11. ... 13. 16.  8.]\n",
            " [ 0.  0.  6. ... 12.  1.  0.]\n",
            " ...\n",
            " [ 0.  0.  0. ...  0.  0.  0.]\n",
            " [ 0.  0.  5. ...  3.  0.  0.]\n",
            " [ 0.  7. 16. ...  0.  0.  0.]]\n",
            "TRAIN: [[ 0.  0.  5. ...  0.  0.  0.]\n",
            " [ 0.  0.  0. ... 10.  0.  0.]\n",
            " [ 0.  0.  0. ... 16.  9.  0.]\n",
            " ...\n",
            " [ 0.  0.  1. ...  6.  0.  0.]\n",
            " [ 0.  0.  2. ... 12.  0.  0.]\n",
            " [ 0.  0. 10. ... 12.  1.  0.]] TEST: [[ 0.  4. 13. ...  7.  0.  0.]\n",
            " [ 0.  0.  0. ... 16.  4.  0.]\n",
            " [ 0.  2. 14. ...  6.  0.  0.]\n",
            " ...\n",
            " [ 0.  0.  0. ... 16.  7.  0.]\n",
            " [ 0.  4. 16. ... 12. 11.  0.]\n",
            " [ 0.  1. 12. ...  6.  0.  0.]]\n",
            "TRAIN: [[ 0.  0.  5. ...  0.  0.  0.]\n",
            " [ 0.  0.  0. ... 10.  0.  0.]\n",
            " [ 0.  0.  0. ... 16.  9.  0.]\n",
            " ...\n",
            " [ 0.  0.  1. ...  6.  0.  0.]\n",
            " [ 0.  0.  2. ... 12.  0.  0.]\n",
            " [ 0.  0. 10. ... 12.  1.  0.]] TEST: [[ 0.  0.  0. ...  0.  0.  0.]\n",
            " [ 0.  2.  6. ... 14.  1.  0.]\n",
            " [ 0.  0.  6. ... 12.  1.  0.]\n",
            " ...\n",
            " [ 0.  0.  0. ...  9.  0.  0.]\n",
            " [ 0.  0.  1. ... 16.  5.  0.]\n",
            " [ 0.  0.  5. ...  1.  0.  0.]]\n",
            "TRAIN: [[ 0.  0.  5. ...  0.  0.  0.]\n",
            " [ 0.  0.  0. ... 10.  0.  0.]\n",
            " [ 0.  0.  0. ... 16.  9.  0.]\n",
            " ...\n",
            " [ 0.  0.  0. ...  9.  0.  0.]\n",
            " [ 0.  0.  1. ... 16.  5.  0.]\n",
            " [ 0.  0.  5. ...  1.  0.  0.]] TEST: [[ 0.  0.  6. ...  9.  6.  2.]\n",
            " [ 0.  0.  0. ...  6.  0.  0.]\n",
            " [ 0.  0.  4. ... 10.  1.  0.]\n",
            " ...\n",
            " [ 0.  0.  1. ...  6.  0.  0.]\n",
            " [ 0.  0.  2. ... 12.  0.  0.]\n",
            " [ 0.  0. 10. ... 12.  1.  0.]]\n"
          ],
          "name": "stdout"
        }
      ]
    },
    {
      "cell_type": "code",
      "metadata": {
        "colab": {
          "base_uri": "https://localhost:8080/"
        },
        "id": "xvB_ce89nnpf",
        "outputId": "5b49ef8b-5493-4e14-c4c9-e1c49e2ea9b6"
      },
      "source": [
        "first_classifier = tree.DecisionTreeClassifier()\r\n",
        "\r\n",
        "first_classifier.fit(X_first_train,y_first_train)"
      ],
      "execution_count": null,
      "outputs": [
        {
          "output_type": "execute_result",
          "data": {
            "text/plain": [
              "DecisionTreeClassifier(ccp_alpha=0.0, class_weight=None, criterion='gini',\n",
              "                       max_depth=None, max_features=None, max_leaf_nodes=None,\n",
              "                       min_impurity_decrease=0.0, min_impurity_split=None,\n",
              "                       min_samples_leaf=1, min_samples_split=2,\n",
              "                       min_weight_fraction_leaf=0.0, presort='deprecated',\n",
              "                       random_state=None, splitter='best')"
            ]
          },
          "metadata": {
            "tags": []
          },
          "execution_count": 8
        }
      ]
    },
    {
      "cell_type": "code",
      "metadata": {
        "colab": {
          "base_uri": "https://localhost:8080/"
        },
        "id": "46WaqkTiJLFe",
        "outputId": "4c2aa591-0ed8-4b1a-8cb5-7c6d75c4d7bb"
      },
      "source": [
        "model_selection.cross_val_score(first_classifier,X_first_test,y_first_test,cv=10)"
      ],
      "execution_count": null,
      "outputs": [
        {
          "output_type": "execute_result",
          "data": {
            "text/plain": [
              "array([0.72222222, 0.5       , 0.44444444, 0.88888889, 0.77777778,\n",
              "       0.88888889, 0.72222222, 0.83333333, 0.66666667, 0.82352941])"
            ]
          },
          "metadata": {
            "tags": []
          },
          "execution_count": 9
        }
      ]
    },
    {
      "cell_type": "code",
      "metadata": {
        "colab": {
          "base_uri": "https://localhost:8080/"
        },
        "id": "9IkL2TDDcjLf",
        "outputId": "7288338f-118a-4368-8a29-923c242fdf44"
      },
      "source": [
        "onetask_classifier = tree.DecisionTreeClassifier()\r\n",
        "\r\n",
        "#onetask_classifier.fit()\r\n",
        "\r\n",
        "model_selection.cross_val_score(onetask_classifier,digits.data,digits.target,cv=10).mean()"
      ],
      "execution_count": null,
      "outputs": [
        {
          "output_type": "execute_result",
          "data": {
            "text/plain": [
              "0.823026070763501"
            ]
          },
          "metadata": {
            "tags": []
          },
          "execution_count": 10
        }
      ]
    },
    {
      "cell_type": "code",
      "metadata": {
        "id": "6w6YpQ9-ex3S"
      },
      "source": [
        "from sklearn.ensemble import BaggingClassifier\r\n",
        "from sklearn import ensemble"
      ],
      "execution_count": null,
      "outputs": []
    },
    {
      "cell_type": "code",
      "metadata": {
        "colab": {
          "base_uri": "https://localhost:8080/"
        },
        "id": "QnSvWkWseqZp",
        "outputId": "6ceb4fd7-9395-4911-b1b0-22539ee7450d"
      },
      "source": [
        "second_classifier = BaggingClassifier(n_estimators=100)\r\n",
        "\r\n",
        "#onetask_classifier.fit()\r\n",
        "\r\n",
        "model_selection.cross_val_score(second_classifier,digits.data,digits.target,cv=10).mean()"
      ],
      "execution_count": null,
      "outputs": [
        {
          "output_type": "execute_result",
          "data": {
            "text/plain": [
              "0.9242768466790814"
            ]
          },
          "metadata": {
            "tags": []
          },
          "execution_count": 12
        }
      ]
    },
    {
      "cell_type": "code",
      "metadata": {
        "id": "sel5fqMpgvLD"
      },
      "source": [
        "digits.data.shape[0]\r\n",
        "import math"
      ],
      "execution_count": null,
      "outputs": []
    },
    {
      "cell_type": "code",
      "metadata": {
        "colab": {
          "base_uri": "https://localhost:8080/"
        },
        "id": "71-_PJ2shAtI",
        "outputId": "eddd3f50-a972-4217-cbf0-5d9445e5e091"
      },
      "source": [
        "features_quantity=math.sqrt(digits.data.shape[0])\r\n",
        "features_quantity/digits.data.shape[0]\r\n",
        "digits.data.shape[0]"
      ],
      "execution_count": null,
      "outputs": [
        {
          "output_type": "execute_result",
          "data": {
            "text/plain": [
              "1797"
            ]
          },
          "metadata": {
            "tags": []
          },
          "execution_count": 14
        }
      ]
    },
    {
      "cell_type": "code",
      "metadata": {
        "colab": {
          "base_uri": "https://localhost:8080/"
        },
        "id": "ZyWiDEZCgXC5",
        "outputId": "849cf6f6-375d-4586-8d20-fc68f08d3429"
      },
      "source": [
        "third_classifier = BaggingClassifier(n_estimators=100,max_features=int(features_quantity))\r\n",
        "#third_classifier = BaggingClassifier(n_estimators=100,n_features_=features_quantity)\r\n",
        "\r\n",
        "#onetask_classifier.fit()\r\n",
        "\r\n",
        "model_selection.cross_val_score(third_classifier,digits.data,digits.target,cv=10).mean()\r\n",
        "#third_classifier."
      ],
      "execution_count": null,
      "outputs": [
        {
          "output_type": "execute_result",
          "data": {
            "text/plain": [
              "0.9420980757293606"
            ]
          },
          "metadata": {
            "tags": []
          },
          "execution_count": 15
        }
      ]
    },
    {
      "cell_type": "code",
      "metadata": {
        "colab": {
          "base_uri": "https://localhost:8080/"
        },
        "id": "8tT7COo1n2ow",
        "outputId": "f227c2ee-c5ff-435d-e3ca-fd467560536f"
      },
      "source": [
        "tree_classifier = tree.DecisionTreeClassifier(max_features=int(features_quantity))\r\n",
        "fourth_classifier = BaggingClassifier(tree_classifier, n_estimators=100,max_features=int(features_quantity))\r\n",
        "#onetask_classifier.fit()\r\n",
        "\r\n",
        "model_selection.cross_val_score(fourth_classifier,digits.data,digits.target,cv=10).mean()"
      ],
      "execution_count": null,
      "outputs": [
        {
          "output_type": "execute_result",
          "data": {
            "text/plain": [
              "0.9460024829298572"
            ]
          },
          "metadata": {
            "tags": []
          },
          "execution_count": 19
        }
      ]
    },
    {
      "cell_type": "code",
      "metadata": {
        "id": "eg0tCBSZEEFF"
      },
      "source": [
        ""
      ],
      "execution_count": null,
      "outputs": []
    }
  ]
}